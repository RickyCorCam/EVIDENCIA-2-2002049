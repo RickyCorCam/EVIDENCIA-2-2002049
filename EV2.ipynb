{
  "nbformat": 4,
  "nbformat_minor": 0,
  "metadata": {
    "colab": {
      "provenance": []
    },
    "kernelspec": {
      "name": "python3",
      "display_name": "Python 3"
    },
    "language_info": {
      "name": "python"
    }
  },
  "cells": [
    {
      "cell_type": "markdown",
      "source": [
        "Es una clase de una persona"
      ],
      "metadata": {
        "id": "rLDZZWb1IGly"
      }
    },
    {
      "cell_type": "code",
      "execution_count": 1,
      "metadata": {
        "id": "mJW92xZhHUcd"
      },
      "outputs": [],
      "source": [
        "class Persona:\n",
        "    def __init__(self, nombre, edad, genero):\n",
        "        self.nombre = nombre\n",
        "        self.edad = edad\n",
        "        self.genero = genero\n",
        "\n",
        "    @property\n",
        "    def informacion_completa(self):\n",
        "        return f\"{self.nombre}, {self.edad} años, {self.genero}\"\n",
        "\n",
        "    def saludar(self):\n",
        "        print(f\"Hola, soy {self.nombre}.\")\n"
      ]
    },
    {
      "cell_type": "markdown",
      "source": [
        "La clase solo cuenta con 3 atributos que son nombre, edad y genero.\n",
        "Ademas cuenta con 1 metodo llamado saludar que imprime en pantalla la frase \"Hola, soy (nombre)\"\n",
        "tambien cuenta con una propiedad que imprime en pantalla toda la informacion de la persona."
      ],
      "metadata": {
        "id": "4gG5xolKIwM7"
      }
    },
    {
      "cell_type": "markdown",
      "source": [
        "Aqui muestro ejemplo de que funciona"
      ],
      "metadata": {
        "id": "SBLwq1wbIbYP"
      }
    },
    {
      "cell_type": "code",
      "source": [
        "persona1 = Persona(\"Juan\", 25, \"Masculino\")\n",
        "\n",
        "print(f\"Nombre: {persona1.nombre}\")\n",
        "print(f\"Edad: {persona1.edad}\")\n",
        "print(f\"Género: {persona1.genero}\")\n",
        "\n",
        "persona1.saludar()\n",
        "\n",
        "print(persona1.informacion_completa)\n"
      ],
      "metadata": {
        "colab": {
          "base_uri": "https://localhost:8080/"
        },
        "id": "jIeyeaZUIZ-P",
        "outputId": "62e73132-604f-449b-acc8-a9175a54deed"
      },
      "execution_count": 2,
      "outputs": [
        {
          "output_type": "stream",
          "name": "stdout",
          "text": [
            "Nombre: Juan\n",
            "Edad: 25\n",
            "Género: Masculino\n",
            "Hola, soy Juan.\n",
            "Juan, 25 años, Masculino\n"
          ]
        }
      ]
    }
  ]
}